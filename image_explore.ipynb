{
 "nbformat": 4,
 "nbformat_minor": 2,
 "metadata": {
  "language_info": {
   "name": "python",
   "codemirror_mode": {
    "name": "ipython",
    "version": 3
   },
   "version": "3.7.2-final"
  },
  "orig_nbformat": 2,
  "file_extension": ".py",
  "mimetype": "text/x-python",
  "name": "python",
  "npconvert_exporter": "python",
  "pygments_lexer": "ipython3",
  "version": 3,
  "kernelspec": {
   "name": "python3",
   "display_name": "Python 3"
  }
 },
 "cells": [
  {
   "cell_type": "code",
   "execution_count": null,
   "metadata": {},
   "outputs": [],
   "source": [
    "# This code expolres some basic properties of the image dataset\n",
    "# 1. frequency distribution of number of masks of training data\n",
    "# 2. image properties, dimensions and image size (height and width)\n",
    "import numpy as np\n",
    "import cv2\n",
    "import matplotlib.pyplot as plt\n",
    "from mpl_toolkits.mplot3d import Axes3D \n",
    "from LoadImage import LoadImage\n",
    "from PIL import Image\n",
    "\n",
    "# code mask matrix with values (0,1,2)\n",
    "def find_contour(im_array):\n",
    "\n",
    "    im = pad(im_array)\n",
    "    im1 = np.multiply(im[0:-2, 0:-2], im[2:, 2:])\n",
    "    im2 = np.multiply(im[0:-2, 2:], im[2:, 0:-2])\n",
    "    im = np.multiply(im1, im2)\n",
    "    return im\n",
    "\n",
    "def pad(im_array):\n",
    "    # pad zero arround image array\n",
    "    new_array = np.zeros((im_array.shape[0]+2, im_array.shape[1]+2))\n",
    "    new_array[1:im_array.shape[0]+1, 1:im_array.shape[0]+1] = im_array\n",
    "    return new_array \n",
    "\n",
    "def scale(im_array):\n",
    "    im_array = np.divide(im_array, np.max(im_array))\n",
    "    return im_array\n",
    "\n"
   ]
  },
  {
   "cell_type": "code",
   "execution_count": null,
   "metadata": {},
   "outputs": [],
   "source": [
    "pathname = 'D:/Stuff/Projects/Kaggle/kaggle_nuclei/stage1_train'\n",
    "im = LoadImage(pathname, image_type='train')\n",
    "list_images = np.array(list(im.dict_files.keys()))\n",
    "print('Training Images: n=', list_images.shape[0])\n",
    "# histogram of count of training masks\n",
    "n_mask = np.array([len(im.dict_files[list_images[n]]['masks']) for n in range(len(list_images))])\n",
    "plt.hist(n_mask, bins='auto')\n",
    "plt.ylabel('Counts')\n",
    "plt.xlabel('Number of Masks')\n",
    "plt.show()"
   ]
  }
 ]
}